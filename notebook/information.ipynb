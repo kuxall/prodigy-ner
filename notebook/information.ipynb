{
 "cells": [
  {
   "attachments": {},
   "cell_type": "markdown",
   "metadata": {},
   "source": [
    "Now lets collect the data from gmail and put it in the folder /home/kushal/Documents/spacyprodigy/_annotated_data Now merge the obtained annotated file using the scripts from /home/kushal/Documents/spacyprodigy/converter/jsonlx.py\n",
    "Store the obtained merged jsonl data named as : final_collected_resume_data_{today}.jsonl  in the /home/kushal/Documents/spacyprodigy/mergeddata now use this jsonl data to make the input to the test_resume datasets. Uswe this below command "
   ]
  },
  {
   "cell_type": "code",
   "execution_count": null,
   "metadata": {},
   "outputs": [],
   "source": [
    "!prodigy db-in test_resume /home/kushal/Documents/spacyprodigy/merged/resume.jsonl"
   ]
  },
  {
   "attachments": {},
   "cell_type": "markdown",
   "metadata": {},
   "source": [
    "After doing this the merged annotated data is ready to use for training Use this command for training "
   ]
  },
  {
   "cell_type": "code",
   "execution_count": null,
   "metadata": {},
   "outputs": [],
   "source": [
    "from datetime import datetime\n",
    "\n",
    "today = datetime.today().strftime('%Y-%m-%d')\n",
    "test_model_name = f'{today}_test_model'\n",
    "print(test_model_name)\n"
   ]
  },
  {
   "cell_type": "code",
   "execution_count": null,
   "metadata": {},
   "outputs": [],
   "source": [
    "!python -m prodigy db-out test_resume"
   ]
  },
  {
   "cell_type": "code",
   "execution_count": null,
   "metadata": {},
   "outputs": [],
   "source": [
    "!python -m prodigy train --ner test_resume 2023-02-08_test_model --eval-split 0.2\n",
    "# use the date as suffix in the model name"
   ]
  },
  {
   "cell_type": "markdown",
   "metadata": {},
   "source": [
    "Screenshot this and store this in the dropbox folder where model is located"
   ]
  },
  {
   "attachments": {},
   "cell_type": "markdown",
   "metadata": {},
   "source": [
    "also use the train curve diagnostics for better evaluation of model. "
   ]
  },
  {
   "cell_type": "code",
   "execution_count": null,
   "metadata": {},
   "outputs": [],
   "source": [
    "!prodigy train-curve --ner test_resume --eval-split 0.2 --show-plot\n",
    "# screenshot the behaviour and store it in the same previous location."
   ]
  },
  {
   "attachments": {},
   "cell_type": "markdown",
   "metadata": {},
   "source": [
    "Lets push all the models and screenshotted images inside the model folder. make sure to format the file as the date on suffix."
   ]
  },
  {
   "cell_type": "code",
   "execution_count": null,
   "metadata": {},
   "outputs": [],
   "source": [
    "!pip install plotext==4.2.0"
   ]
  },
  {
   "attachments": {},
   "cell_type": "markdown",
   "metadata": {},
   "source": [
    "Problem 1: [db-in error after db-out] <br>\n",
    "Solutions: (https://support.prodi.gy/t/db-in-error-after-db-out/4758/5?u=kushal_pythonist)\n",
    "\n",
    "Problem 2: plotext has no attribute colorless <br>\n",
    "Solutions: \n",
    "```pip install plotext==4.2.0```"
   ]
  },
  {
   "cell_type": "code",
   "execution_count": null,
   "metadata": {},
   "outputs": [],
   "source": [
    "# count the number of documents in specific datasets\n",
    "!prodigy db-out test_resume | wc -l\n"
   ]
  },
  {
   "cell_type": "code",
   "execution_count": null,
   "metadata": {},
   "outputs": [],
   "source": [
    "!python -m prodigy stats -ls  # view stats and list all datasets and sessions"
   ]
  },
  {
   "cell_type": "code",
   "execution_count": null,
   "metadata": {},
   "outputs": [],
   "source": []
  }
 ],
 "metadata": {
  "kernelspec": {
   "display_name": ".venv",
   "language": "python",
   "name": "python3"
  },
  "language_info": {
   "codemirror_mode": {
    "name": "ipython",
    "version": 3
   },
   "file_extension": ".py",
   "mimetype": "text/x-python",
   "name": "python",
   "nbconvert_exporter": "python",
   "pygments_lexer": "ipython3",
   "version": "3.10.6"
  },
  "orig_nbformat": 4,
  "vscode": {
   "interpreter": {
    "hash": "ec0f7905015fb1f68107453fc86baae7e26d56aa045115435f234ca46fdd1b68"
   }
  }
 },
 "nbformat": 4,
 "nbformat_minor": 2
}
