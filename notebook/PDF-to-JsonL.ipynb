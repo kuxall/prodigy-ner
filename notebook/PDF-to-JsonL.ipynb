{
 "cells": [
  {
   "cell_type": "markdown",
   "id": "22e5daff",
   "metadata": {},
   "source": [
    "# Data"
   ]
  },
  {
   "cell_type": "code",
   "execution_count": null,
   "id": "7b02922f",
   "metadata": {},
   "outputs": [],
   "source": [
    "# !python3 -m pip install pdfplumber"
   ]
  },
  {
   "cell_type": "code",
   "execution_count": null,
   "id": "33f4c83a",
   "metadata": {
    "scrolled": true
   },
   "outputs": [],
   "source": [
    "import json\n",
    "import pdfplumber\n",
    "\n",
    "text = str()\n",
    "pdf_path = \"/home/kushal/Documents/spacyprodigy/data/Dipesh_Regmi_Resume.pdf\"\n",
    "\n",
    "# Open the PDF file\n",
    "with pdfplumber.open(pdf_path) as pdf:\n",
    "    # Iterate through each page of the PDF\n",
    "    for page in pdf.pages:\n",
    "        # Extract the text from the page\n",
    "        text += page.extract_text()\n",
    "text"
   ]
  },
  {
   "cell_type": "code",
   "execution_count": null,
   "id": "5db0afdf",
   "metadata": {
    "scrolled": true
   },
   "outputs": [],
   "source": [
    "import re\n",
    "\n",
    "def clean_text(text):\n",
    "  text = re.sub(r'\\n+', '\\n', text)\n",
    "  text = re.sub(r'\\u25cf\\s*', '', text)\n",
    "  text = re.sub(r'\\u2014\\s*', '', text)\n",
    "\n",
    "  return text\n",
    "\n",
    "# Remove multiple \\n to single \\n\n",
    "text = clean_text(text)\n",
    "text"
   ]
  },
  {
   "cell_type": "code",
   "execution_count": null,
   "id": "774b71bf",
   "metadata": {
    "scrolled": true
   },
   "outputs": [],
   "source": [
    "# Split the text into list of lines\n",
    "texts = text.split('\\n')\n",
    "texts"
   ]
  },
  {
   "cell_type": "code",
   "execution_count": null,
   "id": "ec3794e5",
   "metadata": {},
   "outputs": [],
   "source": [
    "# Output file name\n",
    "json_file = pdf_path.split('/')[-1].split('.')[0] + '.jsonl'\n",
    "\n",
    "# Prepare array of objects\n",
    "dicts = [{\"text\": text} for text in texts]\n",
    "\n",
    "with open(json_file, 'w') as f:\n",
    "    for dict_ in dicts:\n",
    "        json.dump(dict_, f)\n",
    "        f.write('\\n')\n",
    "print(f\"Successfully converted {pdf_path} to {json_file}\")"
   ]
  },
  {
   "cell_type": "code",
   "execution_count": null,
   "id": "2e03cb77",
   "metadata": {},
   "outputs": [],
   "source": []
  },
  {
   "cell_type": "code",
   "execution_count": null,
   "id": "2d501d05",
   "metadata": {},
   "outputs": [],
   "source": []
  }
 ],
 "metadata": {
  "hide_input": false,
  "kernelspec": {
   "display_name": ".venv",
   "language": "python",
   "name": "python3"
  },
  "language_info": {
   "codemirror_mode": {
    "name": "ipython",
    "version": 3
   },
   "file_extension": ".py",
   "mimetype": "text/x-python",
   "name": "python",
   "nbconvert_exporter": "python",
   "pygments_lexer": "ipython3",
   "version": "3.10.6"
  },
  "toc": {
   "base_numbering": 1,
   "nav_menu": {},
   "number_sections": true,
   "sideBar": true,
   "skip_h1_title": false,
   "title_cell": "Table of Contents",
   "title_sidebar": "Contents",
   "toc_cell": false,
   "toc_position": {},
   "toc_section_display": true,
   "toc_window_display": false
  },
  "vscode": {
   "interpreter": {
    "hash": "ec0f7905015fb1f68107453fc86baae7e26d56aa045115435f234ca46fdd1b68"
   }
  }
 },
 "nbformat": 4,
 "nbformat_minor": 5
}
